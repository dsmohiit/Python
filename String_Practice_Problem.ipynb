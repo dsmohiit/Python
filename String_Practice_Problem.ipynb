{
  "nbformat": 4,
  "nbformat_minor": 0,
  "metadata": {
    "colab": {
      "provenance": [],
      "authorship_tag": "ABX9TyNm9yRdaLGtqfecuzMIoIOf",
      "include_colab_link": true
    },
    "kernelspec": {
      "name": "python3",
      "display_name": "Python 3"
    },
    "language_info": {
      "name": "python"
    }
  },
  "cells": [
    {
      "cell_type": "markdown",
      "metadata": {
        "id": "view-in-github",
        "colab_type": "text"
      },
      "source": [
        "<a href=\"https://colab.research.google.com/github/dsmohiit/Python/blob/main/String_Practice_Problem.ipynb\" target=\"_parent\"><img src=\"https://colab.research.google.com/assets/colab-badge.svg\" alt=\"Open In Colab\"/></a>"
      ]
    },
    {
      "cell_type": "code",
      "execution_count": 3,
      "metadata": {
        "colab": {
          "base_uri": "https://localhost:8080/"
        },
        "id": "ydyG3G4Zxqab",
        "outputId": "47c77089-b675-4ab4-fedc-1281b12057a2"
      },
      "outputs": [
        {
          "output_type": "stream",
          "name": "stdout",
          "text": [
            "Enter your string: mohit\n",
            "5\n"
          ]
        }
      ],
      "source": [
        "# Find the length of a given string without using the len() function\n",
        "\n",
        "s = input(\"Enter your string: \")\n",
        "\n",
        "count = 0\n",
        "for i in s:\n",
        "  count = count + 1\n",
        "\n",
        "print(count)"
      ]
    },
    {
      "cell_type": "code",
      "source": [
        "# Extract username from a given email.\n",
        "# Eg if the email is johnd@gmail.com\n",
        "# then the username should be johnd\n",
        "\n",
        "# Approach - 1 (Using split() function)\n",
        "email = input(\"Enter your email to extract user-name: \")\n",
        "\n",
        "# Spliting the email at \"@\", result will be a string\n",
        "email = email.split(\"@\")\n",
        "\n",
        "# Storing the first index of email in user_name\n",
        "user_name = email[0]\n",
        "\n",
        "print(user_name)"
      ],
      "metadata": {
        "colab": {
          "base_uri": "https://localhost:8080/"
        },
        "id": "wWqbTGJRxwiz",
        "outputId": "0849d215-1784-433b-a480-ab082156174d"
      },
      "execution_count": 5,
      "outputs": [
        {
          "output_type": "stream",
          "name": "stdout",
          "text": [
            "Enter your email to extract user-name: mohit@gmail.com\n",
            "mohit\n"
          ]
        }
      ]
    },
    {
      "cell_type": "code",
      "source": [
        "# Approach - 2 (Using string-slicing)\n",
        "\n",
        "email = input(\"Enter your email: \")\n",
        "\n",
        "# Finding the index/position of \"@\"\n",
        "pos = email.index(\"@\")\n",
        "\n",
        "# Slicing the email using pos\n",
        "user_name = email[0:pos]\n",
        "\n",
        "print(user_name)"
      ],
      "metadata": {
        "colab": {
          "base_uri": "https://localhost:8080/"
        },
        "id": "XtFxprTzzcOv",
        "outputId": "a5ce2b4a-07ef-41ab-b5c1-6f2e1e23017f"
      },
      "execution_count": 6,
      "outputs": [
        {
          "output_type": "stream",
          "name": "stdout",
          "text": [
            "Enter your email: mohit@gmail.com\n",
            "mohit\n"
          ]
        }
      ]
    },
    {
      "cell_type": "code",
      "source": [
        "# Count the frequency of a particular character in a provided string.\n",
        "# Eg 'hello how are you' is the string, the frequency of h in this string is 2.\n",
        "\n",
        "# Approach - 1 (Using count() function)\n",
        "s = input(\"Enter your string: \")\n",
        "c = input(\"Enter the character you want to count: \")\n",
        "\n",
        "count = s.count(f\"{c}\")\n",
        "\n",
        "print(f\"'{c}' ouccrs {count} times in the provided string\")"
      ],
      "metadata": {
        "colab": {
          "base_uri": "https://localhost:8080/"
        },
        "id": "cGGB_D9Yxwlf",
        "outputId": "7c7c6f4d-aedf-4c17-81e7-4baa3f049e8f"
      },
      "execution_count": 10,
      "outputs": [
        {
          "output_type": "stream",
          "name": "stdout",
          "text": [
            "Enter your string: My name is mohit and I'm currently in mangalore.\n",
            "Enter the character you want to count: M\n",
            "'M' ouccrs 1 times in provided string\n"
          ]
        }
      ]
    },
    {
      "cell_type": "code",
      "source": [
        "# Approach - 2 (Using for loop)\n",
        "\n",
        "s = input(\"Enter your string: \")\n",
        "c = input(\"Enter the character you want to count: \")\n",
        "\n",
        "count = 0\n",
        "for i in s:\n",
        "  if i == c:\n",
        "    count = count + 1\n",
        "\n",
        "print(f\"'{c}' ouccrs {count} times in the provided string\")"
      ],
      "metadata": {
        "colab": {
          "base_uri": "https://localhost:8080/"
        },
        "id": "HKfbmUUy1nie",
        "outputId": "c36d0f20-141f-490b-d8fc-3012af94620b"
      },
      "execution_count": 12,
      "outputs": [
        {
          "output_type": "stream",
          "name": "stdout",
          "text": [
            "Enter your string: My name is mohit and I'm currently in mangalore\n",
            "Enter the character you want to count: m\n",
            "'m' ouccrs 4 times in the provided string\n"
          ]
        }
      ]
    },
    {
      "cell_type": "code",
      "source": [
        "# Write a program which can remove a particular character from a string.\n",
        "\n",
        "s = input(\"Enter your string: \")\n",
        "c = input(\"Enter the character you want to remove: \")\n",
        "\n",
        "result = \"\"\n",
        "\n",
        "for i in s:\n",
        "  if i != c:\n",
        "    result = result + i\n",
        "\n",
        "print(f\"Your edited string is {result}.\")"
      ],
      "metadata": {
        "colab": {
          "base_uri": "https://localhost:8080/"
        },
        "id": "x-ykCEqMxwoB",
        "outputId": "ccbdb821-c35f-407a-b69d-0cd6e4619a85"
      },
      "execution_count": 14,
      "outputs": [
        {
          "output_type": "stream",
          "name": "stdout",
          "text": [
            "Enter your string: mohit\n",
            "Enter the character you want to remove: i\n",
            "Your edited string is moht.\n"
          ]
        }
      ]
    },
    {
      "cell_type": "code",
      "source": [
        "# Write a program that can check whether a given string is palindrome or not.\n",
        "# abba\n",
        "# malayalam\n",
        "\n",
        "s = input(\"Enter your string: \")\n",
        "\n",
        "# Setting up a flag\n",
        "flag = True\n",
        "\n",
        "# Looping over the half of length of string.\n",
        "for i in range(0, len(s)//2):\n",
        "\n",
        "  # If 1st character is not equal to last character, convert the flag to False and break the loop\n",
        "  if s[i] != s[len(s) - i - 1]:\n",
        "    flag = False\n",
        "    print(\"Provided string is not a palindrome.\")\n",
        "\n",
        "    break\n",
        "\n",
        "# If flag is yet True it means the string was palindrome\n",
        "if flag:\n",
        "  print(\"Provided string is a palindrome.\")"
      ],
      "metadata": {
        "colab": {
          "base_uri": "https://localhost:8080/"
        },
        "id": "bQl1iz5Txwqi",
        "outputId": "00920825-12cd-4b87-9ad0-b356ee4b5a59"
      },
      "execution_count": 19,
      "outputs": [
        {
          "output_type": "stream",
          "name": "stdout",
          "text": [
            "Enter your string: mohit\n",
            "Provided string is not a palindrome.\n"
          ]
        }
      ]
    },
    {
      "cell_type": "code",
      "source": [
        "# Write a program to count the number of words in a string without split()\n",
        "\n",
        "s = input(\"Enter your string: \")\n",
        "\n",
        "space = \" \"\n",
        "count = 1\n",
        "for i in s:\n",
        "  if i == space:\n",
        "    count = count + 1\n",
        "\n",
        "print(f\"Provided string contains {count} words.\")"
      ],
      "metadata": {
        "colab": {
          "base_uri": "https://localhost:8080/"
        },
        "id": "yVZfVsAdxwtH",
        "outputId": "f2507fab-3dd2-41b8-e759-4802fb6b42f3"
      },
      "execution_count": 21,
      "outputs": [
        {
          "output_type": "stream",
          "name": "stdout",
          "text": [
            "Enter your string: My name is mohit and I'm currently in mangalore\n",
            "Provided string contains 9 words.\n"
          ]
        }
      ]
    },
    {
      "cell_type": "code",
      "source": [
        "# Write a python program to convert a string to title case without using the title()\n",
        "\n",
        "s = input(\"Enter your string: \")\n",
        "\n",
        "l = []\n",
        "for i in s.split():\n",
        "  l.append(i[0].upper() + i[1:].lower())\n",
        "\n",
        "print(\" \".join(l))"
      ],
      "metadata": {
        "colab": {
          "base_uri": "https://localhost:8080/"
        },
        "id": "TGpOKw1zxwvw",
        "outputId": "5f824937-5506-45e1-a314-9a40325440e4"
      },
      "execution_count": 26,
      "outputs": [
        {
          "output_type": "stream",
          "name": "stdout",
          "text": [
            "Enter your string: hi how are you\n",
            "Hi How Are You\n"
          ]
        }
      ]
    },
    {
      "cell_type": "code",
      "source": [
        "# Write a program that can convert an integer to string.\n",
        "\n",
        "number = int(input(\"Enter your number: \"))\n",
        "digits = \"0123456789\"\n",
        "result = \" \"\n",
        "\n",
        "while number != 0:\n",
        "  result = digits[number % 10] + result\n",
        "  number = number // 10\n",
        "\n",
        "print(result)\n",
        "print(type(number))\n",
        "print(type(result))"
      ],
      "metadata": {
        "colab": {
          "base_uri": "https://localhost:8080/"
        },
        "id": "IpwiQNZrxwyJ",
        "outputId": "65a85111-93c7-4fd1-c406-24a5af1d1e9b"
      },
      "execution_count": 28,
      "outputs": [
        {
          "output_type": "stream",
          "name": "stdout",
          "text": [
            "Enter your number: 456\n",
            "456 \n",
            "<class 'int'>\n",
            "<class 'str'>\n"
          ]
        }
      ]
    }
  ]
}