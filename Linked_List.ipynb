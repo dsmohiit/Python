{
  "nbformat": 4,
  "nbformat_minor": 0,
  "metadata": {
    "colab": {
      "provenance": [],
      "authorship_tag": "ABX9TyOS1hop2Wk2YYlcd8wUlcT/",
      "include_colab_link": true
    },
    "kernelspec": {
      "name": "python3",
      "display_name": "Python 3"
    },
    "language_info": {
      "name": "python"
    }
  },
  "cells": [
    {
      "cell_type": "markdown",
      "metadata": {
        "id": "view-in-github",
        "colab_type": "text"
      },
      "source": [
        "<a href=\"https://colab.research.google.com/github/dsmohiit/Python/blob/main/Linked_List.ipynb\" target=\"_parent\"><img src=\"https://colab.research.google.com/assets/colab-badge.svg\" alt=\"Open In Colab\"/></a>"
      ]
    },
    {
      "cell_type": "code",
      "execution_count": 1,
      "metadata": {
        "id": "7nJOdSCMCrUx"
      },
      "outputs": [],
      "source": [
        "class ListNode:\n",
        "  def __init__(self, value):\n",
        "    self.data = value\n",
        "    self.next = None"
      ]
    },
    {
      "cell_type": "code",
      "source": [
        "# Creating an object\n",
        "a = ListNode(1)"
      ],
      "metadata": {
        "id": "v-3D_fu-CuZ0"
      },
      "execution_count": 2,
      "outputs": []
    },
    {
      "cell_type": "code",
      "source": [
        "# Printing address of list node(object)\n",
        "print(a)"
      ],
      "metadata": {
        "colab": {
          "base_uri": "https://localhost:8080/"
        },
        "id": "DAFfOHwOCucJ",
        "outputId": "6f867577-6391-442e-dea6-54dff5a3e737"
      },
      "execution_count": 3,
      "outputs": [
        {
          "output_type": "stream",
          "name": "stdout",
          "text": [
            "<__main__.ListNode object at 0x78f0d600ed70>\n"
          ]
        }
      ]
    },
    {
      "cell_type": "code",
      "source": [
        "print(a.data)"
      ],
      "metadata": {
        "colab": {
          "base_uri": "https://localhost:8080/"
        },
        "id": "_MXpIy2TCuep",
        "outputId": "47985aa6-0efa-495f-9a43-9415967c4f8d"
      },
      "execution_count": 4,
      "outputs": [
        {
          "output_type": "stream",
          "name": "stdout",
          "text": [
            "1\n"
          ]
        }
      ]
    },
    {
      "cell_type": "code",
      "source": [
        "print(a.next)"
      ],
      "metadata": {
        "colab": {
          "base_uri": "https://localhost:8080/"
        },
        "id": "yGAlhJS5CuhD",
        "outputId": "83054e1b-34a1-464f-d343-093ecfc68184"
      },
      "execution_count": 5,
      "outputs": [
        {
          "output_type": "stream",
          "name": "stdout",
          "text": [
            "None\n"
          ]
        }
      ]
    },
    {
      "cell_type": "code",
      "source": [
        "b = ListNode(2)\n",
        "c = ListNode(3)"
      ],
      "metadata": {
        "id": "Z7mKVmz6Cujf"
      },
      "execution_count": 6,
      "outputs": []
    },
    {
      "cell_type": "code",
      "source": [
        "# Creating a linked list manually\n",
        "a.next = b\n",
        "b.next = c"
      ],
      "metadata": {
        "id": "LQowTRzsCul1"
      },
      "execution_count": 7,
      "outputs": []
    },
    {
      "cell_type": "code",
      "source": [
        "print(a.next)\n",
        "print(b.next)\n",
        "print(c.next)"
      ],
      "metadata": {
        "colab": {
          "base_uri": "https://localhost:8080/"
        },
        "id": "Vk3TS61bCuoX",
        "outputId": "144208fb-2306-4e32-dfb7-77bddc9df442"
      },
      "execution_count": 8,
      "outputs": [
        {
          "output_type": "stream",
          "name": "stdout",
          "text": [
            "<__main__.ListNode object at 0x78f0d60a2fe0>\n",
            "<__main__.ListNode object at 0x78f0d60a2b90>\n",
            "None\n"
          ]
        }
      ]
    },
    {
      "cell_type": "code",
      "source": [
        "class ListNode:\n",
        "  def __init__(self, value):\n",
        "    self.data = value\n",
        "    self.next = None"
      ],
      "metadata": {
        "id": "zMu-iFr5Cuqq"
      },
      "execution_count": 9,
      "outputs": []
    },
    {
      "cell_type": "code",
      "source": [
        "class LinkedList:\n",
        "  def __init__(self):\n",
        "\n",
        "    # Empty Linked List ---> Head == None\n",
        "    self.head = None\n",
        "    # n is numbers of nodes in LL\n",
        "    self.n = 0\n",
        "\n",
        "  def __len__(self):\n",
        "    return self.n\n",
        "\n",
        "  def insert_head(self, value):\n",
        "    # Creating new node\n",
        "    new_node = ListNode(value)\n",
        "\n",
        "    # Creating connection\n",
        "    new_node.next = self.head\n",
        "\n",
        "    # Reassigning\n",
        "    self.head = new_node\n",
        "\n",
        "    # Increment n\n",
        "    self.n = self.n + 1\n",
        "\n",
        "  def __str__(self):\n",
        "    if self.head is None:\n",
        "      return \"Empty List\"\n",
        "\n",
        "    result  = ''\n",
        "    curr = self.head\n",
        "    while curr != None:\n",
        "      result = result + str(curr.data) + \"-->\"\n",
        "      curr = curr.next\n",
        "\n",
        "    return result[:-3]\n",
        "\n",
        "  def append(self, value):\n",
        "    new_node = ListNode(value)\n",
        "    # If LL is initially empty\n",
        "    if self.head == None:\n",
        "      self.head = new_node\n",
        "      self.n = self.n + 1\n",
        "      return\n",
        "\n",
        "    curr = self.head\n",
        "    while curr.next != None:\n",
        "      curr = curr.next\n",
        "\n",
        "    # We are at the last node\n",
        "    curr.next = new_node\n",
        "    # Incrementing the size of LL\n",
        "    self. n = self.n + 1\n",
        "\n",
        "  def insert_after(self, after, value):\n",
        "    new_node = ListNode(value)\n",
        "\n",
        "    curr = self.head\n",
        "    while curr != None:\n",
        "      if curr.data == after:\n",
        "        break\n",
        "      curr = curr.next\n",
        "\n",
        "    # Case - 1: If curr != None, it means we have found the \"after\" node.\n",
        "    if curr != None:\n",
        "      new_node.next = curr.next\n",
        "      curr.next = new_node\n",
        "      self.n = self.n + 1\n",
        "\n",
        "    # Case - 2: If curr == None, it means we have not found the \"after\" node.\n",
        "    else:\n",
        "      return \"After node not found, can't insert the value.\"\n",
        "\n",
        "  def clear(self):\n",
        "    self.head = None\n",
        "    self.n = 0\n",
        "\n",
        "  def delete_head(self):\n",
        "    if self.head is not None:\n",
        "      self.head = self.head.next\n",
        "      self.n = self.n - 1\n",
        "    else:\n",
        "      return \"Linked List is empty\"\n",
        "\n",
        "  def delete_tail(self):\n",
        "    # Case - 1: If linked list is empty.\n",
        "    if self.head is None:\n",
        "      return \"Empty Linked List\"\n",
        "\n",
        "    curr = self.head\n",
        "\n",
        "    # Case - 2: If linked list has only 1 item\n",
        "    if curr.next is None:\n",
        "      self.delete_head()\n",
        "      return\n",
        "\n",
        "    # Case - 3:\n",
        "    while curr.next.next != None:\n",
        "      curr = curr.next\n",
        "\n",
        "    # We are at 2nd last node.\n",
        "    curr.next = None\n",
        "    self.n = self.n - 1\n",
        "\n",
        "  def delete_random(self, value):\n",
        "    # Case - 1: If the linked list is empty.\n",
        "    if self.head is None:\n",
        "      return \"Empty Linked List\"\n",
        "\n",
        "    # Case - 2: If value we want to delete is present at head.\n",
        "    if self.head.data == value:\n",
        "      return self.delete_head()\n",
        "\n",
        "    # Case - 3:\n",
        "    curr = self.head\n",
        "    while curr.next != None:\n",
        "      if curr.next.data == value:\n",
        "        break\n",
        "      curr = curr.next\n",
        "\n",
        "    if curr.next == None:\n",
        "      return \"Item Not Found\"\n",
        "    else:\n",
        "      curr.next = curr.next.next\n",
        "\n",
        "  def search(self, item):\n",
        "    curr = self.head\n",
        "    pos = 0\n",
        "    while curr != None:\n",
        "      if curr.data == item:\n",
        "        return pos\n",
        "\n",
        "      curr = curr.next\n",
        "      pos = pos + 1\n",
        "\n",
        "    return \"Item not found\"\n",
        "\n",
        "  def __getitem__(self, index):\n",
        "    curr = self.head\n",
        "    pos = 0\n",
        "    while curr != None:\n",
        "      if pos == index:\n",
        "        return curr.data\n",
        "\n",
        "      curr = curr.next\n",
        "      pos = pos + 1\n",
        "\n",
        "    return \"IndexError\"\n",
        "\n",
        "  def replace_max_with(self, new_value):\n",
        "    if self.head is None:\n",
        "      return \"Empty Linked List\"\n",
        "\n",
        "    curr = self.head\n",
        "    maxx = float(\"-inf\")\n",
        "    while curr != None:\n",
        "      if curr.data > maxx:\n",
        "        maxx = curr.data\n",
        "\n",
        "      curr = curr.next\n",
        "\n",
        "    curr = self.head\n",
        "    while curr != None:\n",
        "      if curr.data == maxx:\n",
        "        curr.data = new_value\n",
        "        break\n",
        "\n",
        "      curr = curr.next\n",
        "\n",
        "  def reverse(self):\n",
        "    curr_node = self.head\n",
        "    prev_node = None\n",
        "    while curr_node != None:\n",
        "      next_node = curr_node.next\n",
        "      curr_node.next = prev_node\n",
        "      prev_node = curr_node\n",
        "      curr_node = next_node\n",
        "\n",
        "    self.head = prev_node"
      ],
      "metadata": {
        "id": "w_5gsfxsCutV"
      },
      "execution_count": 10,
      "outputs": []
    },
    {
      "cell_type": "code",
      "source": [
        "L = LinkedList()"
      ],
      "metadata": {
        "id": "ajc5bL4bCuwu"
      },
      "execution_count": 11,
      "outputs": []
    },
    {
      "cell_type": "code",
      "source": [
        "print(L)"
      ],
      "metadata": {
        "id": "LMjzwwpxGGT0",
        "colab": {
          "base_uri": "https://localhost:8080/"
        },
        "outputId": "9175898e-0798-48ca-e543-f709a75da39d"
      },
      "execution_count": 12,
      "outputs": [
        {
          "output_type": "stream",
          "name": "stdout",
          "text": [
            "Empty List\n"
          ]
        }
      ]
    },
    {
      "cell_type": "code",
      "source": [
        "L.insert_head(1)\n",
        "L.insert_head(2)\n",
        "L.insert_head(3)\n",
        "L.insert_head(4)"
      ],
      "metadata": {
        "id": "cXEMBt-2GJSQ"
      },
      "execution_count": 13,
      "outputs": []
    },
    {
      "cell_type": "code",
      "source": [
        "len(L)"
      ],
      "metadata": {
        "id": "I87CmFSgGJUr",
        "colab": {
          "base_uri": "https://localhost:8080/"
        },
        "outputId": "a9b42c74-01b2-424b-9758-19f657763482"
      },
      "execution_count": 14,
      "outputs": [
        {
          "output_type": "execute_result",
          "data": {
            "text/plain": [
              "4"
            ]
          },
          "metadata": {},
          "execution_count": 14
        }
      ]
    },
    {
      "cell_type": "code",
      "source": [
        "print(L)"
      ],
      "metadata": {
        "id": "SQ2t3Z7_GJXM",
        "colab": {
          "base_uri": "https://localhost:8080/"
        },
        "outputId": "43c15e9a-601c-4af4-ff84-765b5bdcf2ac"
      },
      "execution_count": 15,
      "outputs": [
        {
          "output_type": "stream",
          "name": "stdout",
          "text": [
            "4-->3-->2-->1\n"
          ]
        }
      ]
    },
    {
      "cell_type": "code",
      "source": [
        "L.append(5)"
      ],
      "metadata": {
        "id": "2ZKmPQ53GJZi"
      },
      "execution_count": 16,
      "outputs": []
    },
    {
      "cell_type": "code",
      "source": [
        "len(L)"
      ],
      "metadata": {
        "id": "HS3sDd_BGJb9",
        "colab": {
          "base_uri": "https://localhost:8080/"
        },
        "outputId": "e2bc5e08-f7e7-4b36-b3bc-f46ad94d219a"
      },
      "execution_count": 17,
      "outputs": [
        {
          "output_type": "execute_result",
          "data": {
            "text/plain": [
              "5"
            ]
          },
          "metadata": {},
          "execution_count": 17
        }
      ]
    },
    {
      "cell_type": "code",
      "source": [
        "print(L)"
      ],
      "metadata": {
        "id": "Px4sJBPvGJeG",
        "colab": {
          "base_uri": "https://localhost:8080/"
        },
        "outputId": "a1c733e9-da8a-424e-a872-f50d84deda9e"
      },
      "execution_count": 18,
      "outputs": [
        {
          "output_type": "stream",
          "name": "stdout",
          "text": [
            "4-->3-->2-->1-->5\n"
          ]
        }
      ]
    },
    {
      "cell_type": "code",
      "source": [
        "L.insert_after(20, 200)"
      ],
      "metadata": {
        "id": "oLUSEoFuGJjS",
        "colab": {
          "base_uri": "https://localhost:8080/",
          "height": 36
        },
        "outputId": "0a7eb391-30ef-4567-cbf5-bbf700473c33"
      },
      "execution_count": 19,
      "outputs": [
        {
          "output_type": "execute_result",
          "data": {
            "text/plain": [
              "\"After node not found, can't insert the value.\""
            ],
            "application/vnd.google.colaboratory.intrinsic+json": {
              "type": "string"
            }
          },
          "metadata": {},
          "execution_count": 19
        }
      ]
    },
    {
      "cell_type": "code",
      "source": [
        "L.insert_after(2, 200)"
      ],
      "metadata": {
        "id": "K0dXOEZXzbnm"
      },
      "execution_count": 20,
      "outputs": []
    },
    {
      "cell_type": "code",
      "source": [
        "print(L)"
      ],
      "metadata": {
        "id": "C9aR5dz-GJle",
        "colab": {
          "base_uri": "https://localhost:8080/"
        },
        "outputId": "2c9c91fe-7175-4957-abcd-27697991d219"
      },
      "execution_count": 21,
      "outputs": [
        {
          "output_type": "stream",
          "name": "stdout",
          "text": [
            "4-->3-->2-->200-->1-->5\n"
          ]
        }
      ]
    },
    {
      "cell_type": "code",
      "source": [
        "len(L)"
      ],
      "metadata": {
        "colab": {
          "base_uri": "https://localhost:8080/"
        },
        "id": "LdydAcyr99eN",
        "outputId": "7440f587-7684-4cc7-db35-479840bd9f56"
      },
      "execution_count": 22,
      "outputs": [
        {
          "output_type": "execute_result",
          "data": {
            "text/plain": [
              "6"
            ]
          },
          "metadata": {},
          "execution_count": 22
        }
      ]
    },
    {
      "cell_type": "code",
      "source": [
        "L.delete_head()"
      ],
      "metadata": {
        "id": "Iy1TcFXvGJqh"
      },
      "execution_count": 23,
      "outputs": []
    },
    {
      "cell_type": "code",
      "source": [
        "print(L)"
      ],
      "metadata": {
        "id": "xPDz6BwOGJsu",
        "colab": {
          "base_uri": "https://localhost:8080/"
        },
        "outputId": "29a9124d-1acd-4f6e-ec76-54185255b6a8"
      },
      "execution_count": 24,
      "outputs": [
        {
          "output_type": "stream",
          "name": "stdout",
          "text": [
            "3-->2-->200-->1-->5\n"
          ]
        }
      ]
    },
    {
      "cell_type": "code",
      "source": [
        "len(L)"
      ],
      "metadata": {
        "id": "KLxVfvt0GJvX",
        "colab": {
          "base_uri": "https://localhost:8080/"
        },
        "outputId": "924ea1c8-06ec-45c3-8c69-dc4e0abdd98e"
      },
      "execution_count": 25,
      "outputs": [
        {
          "output_type": "execute_result",
          "data": {
            "text/plain": [
              "5"
            ]
          },
          "metadata": {},
          "execution_count": 25
        }
      ]
    },
    {
      "cell_type": "code",
      "source": [
        "L.delete_tail()"
      ],
      "metadata": {
        "id": "vfatdCMeGJyu"
      },
      "execution_count": 26,
      "outputs": []
    },
    {
      "cell_type": "code",
      "source": [
        "print(L)"
      ],
      "metadata": {
        "colab": {
          "base_uri": "https://localhost:8080/"
        },
        "id": "NbzX84P3_byt",
        "outputId": "71309445-f8f7-4d08-aeb5-4cfebb7b19de"
      },
      "execution_count": 27,
      "outputs": [
        {
          "output_type": "stream",
          "name": "stdout",
          "text": [
            "3-->2-->200-->1\n"
          ]
        }
      ]
    },
    {
      "cell_type": "code",
      "source": [
        "len(L)"
      ],
      "metadata": {
        "colab": {
          "base_uri": "https://localhost:8080/"
        },
        "id": "LgfdK5ZB_n-N",
        "outputId": "881ccf73-5a8f-4d7e-b63c-243e9a521f5c"
      },
      "execution_count": 28,
      "outputs": [
        {
          "output_type": "execute_result",
          "data": {
            "text/plain": [
              "4"
            ]
          },
          "metadata": {},
          "execution_count": 28
        }
      ]
    },
    {
      "cell_type": "code",
      "source": [
        "L.delete_random(10)"
      ],
      "metadata": {
        "colab": {
          "base_uri": "https://localhost:8080/",
          "height": 36
        },
        "id": "pfx_4CN2AL62",
        "outputId": "6435bd6e-4554-433a-ab36-2bec19fb45ed"
      },
      "execution_count": 29,
      "outputs": [
        {
          "output_type": "execute_result",
          "data": {
            "text/plain": [
              "'Item Not Found'"
            ],
            "application/vnd.google.colaboratory.intrinsic+json": {
              "type": "string"
            }
          },
          "metadata": {},
          "execution_count": 29
        }
      ]
    },
    {
      "cell_type": "code",
      "source": [
        "print(L)"
      ],
      "metadata": {
        "colab": {
          "base_uri": "https://localhost:8080/"
        },
        "id": "sIntU-SFF22J",
        "outputId": "51752c80-8d5a-4645-9546-a06633f2ff88"
      },
      "execution_count": 30,
      "outputs": [
        {
          "output_type": "stream",
          "name": "stdout",
          "text": [
            "3-->2-->200-->1\n"
          ]
        }
      ]
    },
    {
      "cell_type": "code",
      "source": [
        "L.search(200)"
      ],
      "metadata": {
        "colab": {
          "base_uri": "https://localhost:8080/"
        },
        "id": "c7SlCYv776ls",
        "outputId": "59b4b9c3-6edb-4c49-ed93-0a1b345ddaac"
      },
      "execution_count": 31,
      "outputs": [
        {
          "output_type": "execute_result",
          "data": {
            "text/plain": [
              "2"
            ]
          },
          "metadata": {},
          "execution_count": 31
        }
      ]
    },
    {
      "cell_type": "code",
      "source": [
        "L.search(8)"
      ],
      "metadata": {
        "colab": {
          "base_uri": "https://localhost:8080/",
          "height": 36
        },
        "id": "SfZUUFoG76pJ",
        "outputId": "af974deb-e535-462d-c197-7ebea9ba66a8"
      },
      "execution_count": 32,
      "outputs": [
        {
          "output_type": "execute_result",
          "data": {
            "text/plain": [
              "'Item not found'"
            ],
            "application/vnd.google.colaboratory.intrinsic+json": {
              "type": "string"
            }
          },
          "metadata": {},
          "execution_count": 32
        }
      ]
    },
    {
      "cell_type": "code",
      "source": [
        "L[0]"
      ],
      "metadata": {
        "colab": {
          "base_uri": "https://localhost:8080/"
        },
        "id": "VCYsRyOb76rx",
        "outputId": "4c5136d6-06d1-4ff2-fc5b-cab018332a46"
      },
      "execution_count": 33,
      "outputs": [
        {
          "output_type": "execute_result",
          "data": {
            "text/plain": [
              "3"
            ]
          },
          "metadata": {},
          "execution_count": 33
        }
      ]
    },
    {
      "cell_type": "code",
      "source": [
        "L[9]"
      ],
      "metadata": {
        "colab": {
          "base_uri": "https://localhost:8080/",
          "height": 36
        },
        "id": "1LvibiCO76un",
        "outputId": "339b4898-5d1e-4ee9-acd5-da461b33485d"
      },
      "execution_count": 34,
      "outputs": [
        {
          "output_type": "execute_result",
          "data": {
            "text/plain": [
              "'IndexError'"
            ],
            "application/vnd.google.colaboratory.intrinsic+json": {
              "type": "string"
            }
          },
          "metadata": {},
          "execution_count": 34
        }
      ]
    },
    {
      "cell_type": "code",
      "source": [
        "print(L)"
      ],
      "metadata": {
        "colab": {
          "base_uri": "https://localhost:8080/"
        },
        "id": "6C8NfQBm76x4",
        "outputId": "7313cd5b-3429-444f-90cc-d5c26c97e435"
      },
      "execution_count": 35,
      "outputs": [
        {
          "output_type": "stream",
          "name": "stdout",
          "text": [
            "3-->2-->200-->1\n"
          ]
        }
      ]
    },
    {
      "cell_type": "code",
      "source": [
        "L.replace_max_with(400)"
      ],
      "metadata": {
        "id": "mgAm7R7Y7602"
      },
      "execution_count": 36,
      "outputs": []
    },
    {
      "cell_type": "code",
      "source": [
        "print(L)"
      ],
      "metadata": {
        "colab": {
          "base_uri": "https://localhost:8080/"
        },
        "id": "D6xwV3TC763x",
        "outputId": "5c4a22be-e74c-4700-be30-b9f68317b5cc"
      },
      "execution_count": 37,
      "outputs": [
        {
          "output_type": "stream",
          "name": "stdout",
          "text": [
            "3-->2-->400-->1\n"
          ]
        }
      ]
    },
    {
      "cell_type": "code",
      "source": [
        "L.reverse()"
      ],
      "metadata": {
        "id": "GAk0RoY7766_"
      },
      "execution_count": 38,
      "outputs": []
    },
    {
      "cell_type": "code",
      "source": [
        "print(L)"
      ],
      "metadata": {
        "colab": {
          "base_uri": "https://localhost:8080/"
        },
        "id": "-vC_cGCVFKp1",
        "outputId": "ef960ae2-360c-4d04-b3dd-d6a777f89a27"
      },
      "execution_count": 39,
      "outputs": [
        {
          "output_type": "stream",
          "name": "stdout",
          "text": [
            "1-->400-->2-->3\n"
          ]
        }
      ]
    }
  ]
}