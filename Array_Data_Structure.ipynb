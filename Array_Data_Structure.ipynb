{
  "nbformat": 4,
  "nbformat_minor": 0,
  "metadata": {
    "colab": {
      "provenance": [],
      "authorship_tag": "ABX9TyO/g7fY+tS9fIC5imY39qLO",
      "include_colab_link": true
    },
    "kernelspec": {
      "name": "python3",
      "display_name": "Python 3"
    },
    "language_info": {
      "name": "python"
    }
  },
  "cells": [
    {
      "cell_type": "markdown",
      "metadata": {
        "id": "view-in-github",
        "colab_type": "text"
      },
      "source": [
        "<a href=\"https://colab.research.google.com/github/dsmohiit/Python/blob/main/Array_Data_Structure.ipynb\" target=\"_parent\"><img src=\"https://colab.research.google.com/assets/colab-badge.svg\" alt=\"Open In Colab\"/></a>"
      ]
    },
    {
      "cell_type": "code",
      "execution_count": 2,
      "metadata": {
        "id": "YXTMPsQpIP_k"
      },
      "outputs": [],
      "source": [
        "# A foreign library for Python. It provides C-compatible data types.\n",
        "import ctypes"
      ]
    },
    {
      "cell_type": "code",
      "source": [
        "class MyList:\n",
        "\n",
        "  def __init__(self):\n",
        "    self.size = 1 # Size of array\n",
        "    self.n = 0 # Items is array\n",
        "\n",
        "    self.A = self.__create_array(self.size)\n",
        "\n",
        "  def __len__(self):\n",
        "    return self.n\n",
        "\n",
        "  def __str__(self):\n",
        "    result = \"\"\n",
        "    for i in range(self.n):\n",
        "      result = result + str(self.A[i]) + \",\"\n",
        "\n",
        "    return \"[\" + result[:-1] + \"]\"\n",
        "\n",
        "  def append(self, item):\n",
        "    if self.n == self.size:\n",
        "      # Resize\n",
        "      self.__resize(self.size*2)\n",
        "\n",
        "    # Append\n",
        "    self.A[self.n] = item\n",
        "    self.n = self.n + 1\n",
        "\n",
        "  def __resize(self, new_capacity):\n",
        "    B = self.__create_array(new_capacity)\n",
        "    self.size = new_capacity\n",
        "\n",
        "    # Copy the content of A to B\n",
        "    for i in range(self.n):\n",
        "      B[i] = self.A[i]\n",
        "    self.A = B\n",
        "\n",
        "  def __create_array(self, capacity):\n",
        "    return (capacity * ctypes.py_object)()"
      ],
      "metadata": {
        "id": "kUn4Gz-YInYU"
      },
      "execution_count": 91,
      "outputs": []
    },
    {
      "cell_type": "code",
      "source": [
        "l = MyList()"
      ],
      "metadata": {
        "id": "Qex7jRboInbK"
      },
      "execution_count": 92,
      "outputs": []
    },
    {
      "cell_type": "code",
      "source": [
        "len(l)"
      ],
      "metadata": {
        "colab": {
          "base_uri": "https://localhost:8080/"
        },
        "id": "3BO7kwDGInd4",
        "outputId": "2dd609f5-9c68-4fce-ed1e-c5e641f9d669"
      },
      "execution_count": 93,
      "outputs": [
        {
          "output_type": "execute_result",
          "data": {
            "text/plain": [
              "0"
            ]
          },
          "metadata": {},
          "execution_count": 93
        }
      ]
    },
    {
      "cell_type": "code",
      "source": [
        "l.append(\"Hello\")\n",
        "l.append(3.14)\n",
        "l.append(True)\n",
        "len(l)"
      ],
      "metadata": {
        "colab": {
          "base_uri": "https://localhost:8080/"
        },
        "id": "5j3kZcMdIngk",
        "outputId": "ac9a916a-0de4-4d38-fefc-a9ec923cfb1f"
      },
      "execution_count": 94,
      "outputs": [
        {
          "output_type": "execute_result",
          "data": {
            "text/plain": [
              "3"
            ]
          },
          "metadata": {},
          "execution_count": 94
        }
      ]
    },
    {
      "cell_type": "code",
      "source": [
        "print(l)"
      ],
      "metadata": {
        "colab": {
          "base_uri": "https://localhost:8080/"
        },
        "id": "KrSSmK4kInjJ",
        "outputId": "9c3143e4-a321-4368-89df-1d19a28eacb7"
      },
      "execution_count": 95,
      "outputs": [
        {
          "output_type": "stream",
          "name": "stdout",
          "text": [
            "[Hello,3.14,True]\n"
          ]
        }
      ]
    }
  ]
}