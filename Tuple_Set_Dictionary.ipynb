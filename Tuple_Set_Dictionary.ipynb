{
  "nbformat": 4,
  "nbformat_minor": 0,
  "metadata": {
    "colab": {
      "provenance": [],
      "authorship_tag": "ABX9TyNn6ubo02cxz7G7iDxMXd5i",
      "include_colab_link": true
    },
    "kernelspec": {
      "name": "python3",
      "display_name": "Python 3"
    },
    "language_info": {
      "name": "python"
    }
  },
  "cells": [
    {
      "cell_type": "markdown",
      "metadata": {
        "id": "view-in-github",
        "colab_type": "text"
      },
      "source": [
        "<a href=\"https://colab.research.google.com/github/dsmohiit/Python/blob/main/Tuple_Set_Dictionary.ipynb\" target=\"_parent\"><img src=\"https://colab.research.google.com/assets/colab-badge.svg\" alt=\"Open In Colab\"/></a>"
      ]
    },
    {
      "cell_type": "markdown",
      "source": [
        "# Tuples\n",
        "\n",
        "A tuple in Python is similar to a list. The difference between the two is that we cannot change the elements of a tuple once it is assigned whereas we can change the elements of a list.\n",
        "\n",
        "In short, a tuple is an immutable list. A tuple can not be changed in any way once it is created.\n",
        "\n",
        "Characterstics\n",
        "\n",
        "- Ordered\n",
        "- Unchangeble\n",
        "- Allows duplicate\n"
      ],
      "metadata": {
        "id": "sQh8eZwCozg-"
      }
    },
    {
      "cell_type": "markdown",
      "source": [
        "### Creating Tuples"
      ],
      "metadata": {
        "id": "q3B24BF0o1y7"
      }
    },
    {
      "cell_type": "code",
      "execution_count": 2,
      "metadata": {
        "colab": {
          "base_uri": "https://localhost:8080/"
        },
        "id": "pid7zpuHomgV",
        "outputId": "9c8aa0a1-f3e0-4b67-dd10-4d94b54e48aa"
      },
      "outputs": [
        {
          "output_type": "stream",
          "name": "stdout",
          "text": [
            "<class 'tuple'>\n",
            "(2,)\n",
            "<class 'tuple'>\n",
            "(1, 2, 3, 4)\n",
            "('hello', 2, 4, True)\n",
            "(1, 2, 3, ('hello', True))\n",
            "('h', 'e', 'l', 'l', 'o')\n"
          ]
        }
      ],
      "source": [
        "# Empty tuple\n",
        "t1 = ()\n",
        "print(type(t1))\n",
        "\n",
        "# Creating a tuple with single item - add a comma\n",
        "t2 = (2,)\n",
        "print(t2)\n",
        "print(type(t2))\n",
        "\n",
        "# Homogenous tuple\n",
        "t3 = (1, 2, 3, 4)\n",
        "print(t3)\n",
        "\n",
        "# Heterogenous tuple\n",
        "t4 = (\"hello\", 2, 4, True)\n",
        "print(t4)\n",
        "\n",
        "# 2D tuple\n",
        "t5 = (1, 2, 3, (\"hello\", True))\n",
        "print(t5)\n",
        "\n",
        "# Using type convrsion\n",
        "t6 = tuple(\"hello\")\n",
        "print(t6)"
      ]
    },
    {
      "cell_type": "markdown",
      "source": [
        "### Accessing Items\n",
        "\n",
        "- Indexing\n",
        "- Slicing"
      ],
      "metadata": {
        "id": "mIQztM5Zo723"
      }
    },
    {
      "cell_type": "code",
      "source": [
        "# Indexing\n",
        "\n",
        "print(t3)\n",
        "print(t3[0])\n",
        "print(t3[-1])\n",
        "\n",
        "# Slicing\n",
        "\n",
        "print(t3[1:3])\n",
        "print(t3[-3:-1])\n",
        "\n",
        "# Reversing a tuple\n",
        "\n",
        "print(t3[::-1])"
      ],
      "metadata": {
        "colab": {
          "base_uri": "https://localhost:8080/"
        },
        "id": "qymoj_iPo8iC",
        "outputId": "836302d6-62a4-4d7e-8e93-2f77fcb26d3c"
      },
      "execution_count": null,
      "outputs": [
        {
          "output_type": "stream",
          "name": "stdout",
          "text": [
            "(1, 2, 3, 4)\n",
            "1\n",
            "4\n",
            "(2, 3)\n",
            "(2, 3)\n",
            "(4, 3, 2, 1)\n"
          ]
        }
      ]
    },
    {
      "cell_type": "markdown",
      "source": [
        "### Editing items"
      ],
      "metadata": {
        "id": "3y7tBFZTo_cE"
      }
    },
    {
      "cell_type": "code",
      "source": [
        "# Tuples can't be edited\n",
        "\n",
        "print(t3)\n",
        "t3[0] = 100"
      ],
      "metadata": {
        "id": "5XsKVRJyo_-p"
      },
      "execution_count": null,
      "outputs": []
    },
    {
      "cell_type": "markdown",
      "source": [
        "### Adding items"
      ],
      "metadata": {
        "id": "AqgOS93rpDCZ"
      }
    },
    {
      "cell_type": "code",
      "source": [
        "# Not possible, tuples are immutbale."
      ],
      "metadata": {
        "id": "T40uYzZrpDli"
      },
      "execution_count": null,
      "outputs": []
    },
    {
      "cell_type": "markdown",
      "source": [
        "### Deleting items"
      ],
      "metadata": {
        "id": "T2GEXL9HpEIX"
      }
    },
    {
      "cell_type": "code",
      "source": [
        "# Whole tuple can be deleted using \"del\" keyword but not a single item of tuple"
      ],
      "metadata": {
        "id": "JtjP3ZfVpGbv"
      },
      "execution_count": null,
      "outputs": []
    },
    {
      "cell_type": "markdown",
      "source": [
        "### Operations on Tuples"
      ],
      "metadata": {
        "id": "eRxN5VUIpHAV"
      }
    },
    {
      "cell_type": "code",
      "source": [
        "t1 = (1, 2, 3)\n",
        "t2 = (4, 5, 6)\n",
        "\n",
        "# Addition\n",
        "print(t1 + t2)\n",
        "\n",
        "# Multiplication\n",
        "#print(t1 * t2)\n",
        "print(t1 * 2)\n",
        "\n",
        "# Membership\n",
        "1 in t1\n",
        "\n",
        "# Iteration\n",
        "for i in t1:\n",
        "  print(i)"
      ],
      "metadata": {
        "colab": {
          "base_uri": "https://localhost:8080/"
        },
        "id": "SWBqHxKupJ-I",
        "outputId": "b3857fd2-8e53-4e1c-858c-f627862e3912"
      },
      "execution_count": null,
      "outputs": [
        {
          "output_type": "stream",
          "name": "stdout",
          "text": [
            "(1, 2, 3, 4, 5, 6)\n",
            "(1, 2, 3, 1, 2, 3)\n",
            "1\n",
            "2\n",
            "3\n"
          ]
        }
      ]
    },
    {
      "cell_type": "markdown",
      "source": [
        "### Tuple Functions"
      ],
      "metadata": {
        "id": "RSAmCxTspKju"
      }
    },
    {
      "cell_type": "code",
      "source": [
        "# len()/max()/min()/sum()/sorted()\n",
        "t = (1, 2, 3, 4, 5, 6, 7, 8, 9)\n",
        "\n",
        "print(len(t))\n",
        "print(max(t))\n",
        "print(min(t))\n",
        "print(sum(t))\n",
        "print(sorted(t))\n",
        "print(sorted(t, reverse= True))"
      ],
      "metadata": {
        "colab": {
          "base_uri": "https://localhost:8080/"
        },
        "id": "gAMD2vmrpM6g",
        "outputId": "9b42de9c-8871-4c21-d632-34983fe1f002"
      },
      "execution_count": null,
      "outputs": [
        {
          "output_type": "stream",
          "name": "stdout",
          "text": [
            "9\n",
            "9\n",
            "1\n",
            "45\n",
            "[1, 2, 3, 4, 5, 6, 7, 8, 9]\n",
            "[9, 8, 7, 6, 5, 4, 3, 2, 1]\n"
          ]
        }
      ]
    },
    {
      "cell_type": "code",
      "source": [
        "# count() ---> Counts the frequency of the item that is passed.\n",
        "\n",
        "t = (1, 2, 3, 4, 5)\n",
        "t.count(5)"
      ],
      "metadata": {
        "colab": {
          "base_uri": "https://localhost:8080/"
        },
        "id": "RMc01vQ1RKNq",
        "outputId": "19c93690-8259-4254-d147-eae426cf8229"
      },
      "execution_count": null,
      "outputs": [
        {
          "output_type": "execute_result",
          "data": {
            "text/plain": [
              "1"
            ]
          },
          "metadata": {},
          "execution_count": 11
        }
      ]
    },
    {
      "cell_type": "code",
      "source": [
        "# index() ---> Returns the item's index that is passed.\n",
        "\n",
        "t = (1, 2, 3, 4, 5)\n",
        "t.index(5)"
      ],
      "metadata": {
        "colab": {
          "base_uri": "https://localhost:8080/"
        },
        "id": "n_nSNP2WRKRJ",
        "outputId": "19d008a2-97b6-4d88-dfec-5b6af649226a"
      },
      "execution_count": null,
      "outputs": [
        {
          "output_type": "execute_result",
          "data": {
            "text/plain": [
              "4"
            ]
          },
          "metadata": {},
          "execution_count": 12
        }
      ]
    },
    {
      "cell_type": "markdown",
      "source": [
        "### Difference between Lists and Tuples\n",
        "\n",
        "- Syntax\n",
        "- Mutability -- Tuples are immutable\n",
        "- Speed -- Tuples are faster\n",
        "- Memory -- Consumes less memory\n",
        "- Built in functionality\n",
        "- Error prone -- Less prone to errors\n",
        "- Usability -- Used in case of read only applications"
      ],
      "metadata": {
        "id": "WYwvMOpFpPtb"
      }
    },
    {
      "cell_type": "markdown",
      "source": [
        "### Why use tuple?"
      ],
      "metadata": {
        "id": "AYEH9bV9pVG8"
      }
    },
    {
      "cell_type": "markdown",
      "source": [
        "### Special Syntax"
      ],
      "metadata": {
        "id": "-CimbHnSpV3q"
      }
    },
    {
      "cell_type": "code",
      "source": [
        "# Tuple unpacking\n",
        "\n",
        "a, b, c = (1, 2, 3)\n",
        "print(a, b, c)"
      ],
      "metadata": {
        "colab": {
          "base_uri": "https://localhost:8080/"
        },
        "id": "6dsH5GrRpY_e",
        "outputId": "4cf86267-a581-4c7a-e6de-5f2dd904546d"
      },
      "execution_count": null,
      "outputs": [
        {
          "output_type": "stream",
          "name": "stdout",
          "text": [
            "1 2 3\n"
          ]
        }
      ]
    },
    {
      "cell_type": "code",
      "source": [
        "# Swapping two values\n",
        "\n",
        "a = 1\n",
        "b = 2\n",
        "\n",
        "a, b = b, a\n",
        "print(a, b)"
      ],
      "metadata": {
        "colab": {
          "base_uri": "https://localhost:8080/"
        },
        "id": "Y_Srgzb3VRrV",
        "outputId": "d6e1ea41-be3b-4cbe-d75d-84dcf099679b"
      },
      "execution_count": null,
      "outputs": [
        {
          "output_type": "stream",
          "name": "stdout",
          "text": [
            "2 1\n"
          ]
        }
      ]
    },
    {
      "cell_type": "code",
      "source": [
        "a, b, *others = (1, 2, 3, 4, 5, 6)\n",
        "print(a, b)\n",
        "print(others)"
      ],
      "metadata": {
        "colab": {
          "base_uri": "https://localhost:8080/"
        },
        "id": "qoXIWSt_VRus",
        "outputId": "56068b79-75cb-4f4d-9afa-186cd4ca9f77"
      },
      "execution_count": null,
      "outputs": [
        {
          "output_type": "stream",
          "name": "stdout",
          "text": [
            "1 2\n",
            "[3, 4, 5, 6]\n"
          ]
        }
      ]
    },
    {
      "cell_type": "code",
      "source": [
        "# Zipping tuples\n",
        "\n",
        "tuple1 = (1, 2, 3, 4)\n",
        "tuple2 = (5, 6, 7, 8)\n",
        "\n",
        "list(zip(tuple1, tuple2))"
      ],
      "metadata": {
        "colab": {
          "base_uri": "https://localhost:8080/"
        },
        "id": "j2ajMs5eVvV2",
        "outputId": "6d6d7544-687e-4bba-c003-322a527dfd54"
      },
      "execution_count": null,
      "outputs": [
        {
          "output_type": "execute_result",
          "data": {
            "text/plain": [
              "[(1, 5), (2, 6), (3, 7), (4, 8)]"
            ]
          },
          "metadata": {},
          "execution_count": 20
        }
      ]
    },
    {
      "cell_type": "markdown",
      "source": [
        "# Sets\n",
        "\n",
        "A set is an unordered collection of items. Every set element is unique (no duplicates) and must be immutable (cannot be changed).\n",
        "\n",
        "However, a set itself is mutable. We can add or remove items from it.\n",
        "\n",
        "Sets can also be used to perform mathematical set operations like union, intersection, symmetric difference, etc.\n",
        "\n",
        "Characterstics:\n",
        "- Unordered\n",
        "- Mutable\n",
        "- No Duplicates\n",
        "- Can't contain mutable data types"
      ],
      "metadata": {
        "id": "ExWNGMKypbVE"
      }
    },
    {
      "cell_type": "markdown",
      "source": [
        "### Creating Sets"
      ],
      "metadata": {
        "id": "xMpDrFmH6xzL"
      }
    },
    {
      "cell_type": "code",
      "source": [
        "# Empty set\n",
        "s = set()\n",
        "print(s)\n",
        "print(type(s))\n",
        "\n",
        "# 1D and 2D set\n",
        "s1 = {1, 2, 3}\n",
        "print(s1)\n",
        "\n",
        "#2D set in not possible, sets can not store another mutable itrable.\n",
        "\n",
        "# Homogenous set\n",
        "s2 = {1, 2, 3, 4}\n",
        "print(s2)\n",
        "\n",
        "# Heterogenous set\n",
        "# True is not in the set because in python True is treated as 1 and we alreday have 1 in our set. Also, set can't have duplicates.\n",
        "s3 = {1, 2, 3.14, True, 3+1j, \"mohit\"}\n",
        "print(s3)\n",
        "\n",
        "# Using type conversion\n",
        "set(\"hello\")"
      ],
      "metadata": {
        "id": "wspTfqJ5pb1B",
        "colab": {
          "base_uri": "https://localhost:8080/"
        },
        "outputId": "45158538-707e-413b-b9c5-f73fb3dfa85d"
      },
      "execution_count": 8,
      "outputs": [
        {
          "output_type": "stream",
          "name": "stdout",
          "text": [
            "set()\n",
            "<class 'set'>\n",
            "{1, 2, 3}\n",
            "{1, 2, 3, 4}\n",
            "{1, 2, 3.14, (3+1j), 'mohit'}\n"
          ]
        },
        {
          "output_type": "execute_result",
          "data": {
            "text/plain": [
              "{'e', 'h', 'l', 'o'}"
            ]
          },
          "metadata": {},
          "execution_count": 8
        }
      ]
    },
    {
      "cell_type": "code",
      "source": [
        "# Sets are unordered.\n",
        "\n",
        "s1 = {1, 2, 3}\n",
        "s2 = {3, 2, 1}\n",
        "\n",
        "print(s1 == s2)"
      ],
      "metadata": {
        "colab": {
          "base_uri": "https://localhost:8080/"
        },
        "id": "ooLn4HYJ6kIN",
        "outputId": "db7d81f1-d4e9-47bc-9034-6a029078e26a"
      },
      "execution_count": 9,
      "outputs": [
        {
          "output_type": "stream",
          "name": "stdout",
          "text": [
            "True\n"
          ]
        }
      ]
    },
    {
      "cell_type": "markdown",
      "source": [
        "### Accessing Items"
      ],
      "metadata": {
        "id": "Th5g2MLJphcK"
      }
    },
    {
      "cell_type": "code",
      "source": [
        "# Can not access the items of sets using indexing because sets are unorderd."
      ],
      "metadata": {
        "id": "rf-ZpExcph0F"
      },
      "execution_count": null,
      "outputs": []
    },
    {
      "cell_type": "markdown",
      "source": [
        "### Editing Items"
      ],
      "metadata": {
        "id": "HxjqYk6cpkAV"
      }
    },
    {
      "cell_type": "code",
      "source": [
        "# Not possible because of indexing"
      ],
      "metadata": {
        "id": "_ZiJbQNYpkV5"
      },
      "execution_count": null,
      "outputs": []
    },
    {
      "cell_type": "markdown",
      "source": [
        "### Adding Items"
      ],
      "metadata": {
        "id": "N1z2MRIvpnME"
      }
    },
    {
      "cell_type": "code",
      "source": [
        "s1 = {1, 2, 3}\n",
        "\n",
        "# add ---> adds single item to the set\n",
        "s1.add(5)\n",
        "print(s1)\n",
        "\n",
        "# update ---> adds multiple items to the set\n",
        "s2 = {1, 2, 3}\n",
        "s2.update([4, 5, 6, \"hello\"])\n",
        "print(s2)"
      ],
      "metadata": {
        "id": "rm2-RkFzpnn0",
        "colab": {
          "base_uri": "https://localhost:8080/"
        },
        "outputId": "313283d9-7113-4b62-aa30-a278d1b693cd"
      },
      "execution_count": 13,
      "outputs": [
        {
          "output_type": "stream",
          "name": "stdout",
          "text": [
            "{1, 2, 3, 5}\n",
            "{1, 2, 3, 4, 5, 6, 'hello'}\n"
          ]
        }
      ]
    },
    {
      "cell_type": "markdown",
      "source": [
        "### Deleting Items"
      ],
      "metadata": {
        "id": "0ksCYdvVpqFC"
      }
    },
    {
      "cell_type": "code",
      "source": [
        "# del ---> this will delete the complete set but not single item\n",
        "\n",
        "# discard ---> discard can delete a single item from the set, discard takes up the value itself and not the index\n",
        "s1 = {1, 2, 3, 4, 5}\n",
        "print(s1)\n",
        "s1.discard(5)\n",
        "print(s1)\n",
        "\n",
        "# remove ---> remove can delete a single item from the set as well, remove also takes up the value itself and not the index\n",
        "s2 = {6, 7, 8, 9, 10}\n",
        "print(s2)\n",
        "s2.remove(7)\n",
        "print(s2)\n",
        "\n",
        "# pop ---> deletes/removes a single item from the set randomly\n",
        "s3 = {11, 12, 13, 14, 15}\n",
        "print(s3)\n",
        "s3.pop()\n",
        "print(s3)\n",
        "\n",
        "# clear ---> deletes all the items of the set and makes it into an empty set.\n",
        "s4 = {16, 17, 18, 19, 20}\n",
        "print(s4)\n",
        "s4.clear()\n",
        "print(s4)"
      ],
      "metadata": {
        "id": "WnfbRrRbpqbu",
        "colab": {
          "base_uri": "https://localhost:8080/"
        },
        "outputId": "9f775100-18a2-4457-b32c-da48d88fb03e"
      },
      "execution_count": 22,
      "outputs": [
        {
          "output_type": "stream",
          "name": "stdout",
          "text": [
            "{1, 2, 3, 4, 5}\n",
            "{1, 2, 3, 4}\n",
            "{6, 7, 8, 9, 10}\n",
            "{6, 8, 9, 10}\n",
            "{11, 12, 13, 14, 15}\n",
            "{12, 13, 14, 15}\n",
            "{16, 17, 18, 19, 20}\n",
            "set()\n"
          ]
        }
      ]
    },
    {
      "cell_type": "markdown",
      "source": [
        "### Set Operation"
      ],
      "metadata": {
        "id": "nJiUvTmNptR2"
      }
    },
    {
      "cell_type": "code",
      "source": [
        "s1 = {1, 2, 3, 4, 5}\n",
        "s2 = {4, 5, 6, 7, 8}\n",
        "\n",
        "# Union(|)\n",
        "print(s1 | s2)\n",
        "\n",
        "# Intersection ---> common items\n",
        "print(s1 & s2)\n",
        "\n",
        "# Difference (-)\n",
        "print(s1 - s2) # Those items of s1 which are not present in s2.\n",
        "print(s2 - s1) # Those items of s2 which are not present in s1.\n",
        "\n",
        "# Symmetric diffrence(^)\n",
        "print(s1 ^ s2) # Everything will be included except the common.\n",
        "\n",
        "# Membership test\n",
        "1 in s1\n",
        "\n",
        "# Iteration\n",
        "for i in s1:\n",
        "  print(i)"
      ],
      "metadata": {
        "id": "Bl-v-rbipt0o",
        "colab": {
          "base_uri": "https://localhost:8080/"
        },
        "outputId": "b5fcd688-1390-477b-b6b9-47d567dde222"
      },
      "execution_count": 29,
      "outputs": [
        {
          "output_type": "stream",
          "name": "stdout",
          "text": [
            "{1, 2, 3, 4, 5, 6, 7, 8}\n",
            "{4, 5}\n",
            "{1, 2, 3}\n",
            "{8, 6, 7}\n",
            "{1, 2, 3, 6, 7, 8}\n",
            "1\n",
            "2\n",
            "3\n",
            "4\n",
            "5\n"
          ]
        }
      ]
    },
    {
      "cell_type": "markdown",
      "source": [
        "### Set Functions"
      ],
      "metadata": {
        "id": "ecEexlg6pwmb"
      }
    },
    {
      "cell_type": "code",
      "source": [
        "# len/sum/min/max/sorted\n",
        "\n",
        "s1 = {1, 2, 3, 4, 5, 100, 150}\n",
        "\n",
        "print(len(s1))\n",
        "print(sum(s1))\n",
        "print(min(s1))\n",
        "print(max(s1))\n",
        "print(sorted(s1, reverse= True))"
      ],
      "metadata": {
        "id": "xStyvZ4gpw84",
        "colab": {
          "base_uri": "https://localhost:8080/"
        },
        "outputId": "42f75f19-94fd-4014-d728-fcaf0086d339"
      },
      "execution_count": 35,
      "outputs": [
        {
          "output_type": "stream",
          "name": "stdout",
          "text": [
            "7\n",
            "265\n",
            "1\n",
            "150\n",
            "[150, 100, 5, 4, 3, 2, 1]\n"
          ]
        }
      ]
    },
    {
      "cell_type": "code",
      "source": [
        "# union/update\n",
        "s1 = {1, 2, 3, 4, 5}\n",
        "s2 = {4, 5, 6, 7, 8}\n",
        "\n",
        "print(s1.union(s2))\n",
        "\n",
        "s1.update(s2)\n",
        "print(s1)\n",
        "print(s2)"
      ],
      "metadata": {
        "colab": {
          "base_uri": "https://localhost:8080/"
        },
        "id": "wzfHS1JZGD2O",
        "outputId": "3378371d-e44c-4640-d2d0-957b92d59423"
      },
      "execution_count": 38,
      "outputs": [
        {
          "output_type": "stream",
          "name": "stdout",
          "text": [
            "{1, 2, 3, 4, 5, 6, 7, 8}\n",
            "{1, 2, 3, 4, 5, 6, 7, 8}\n",
            "{4, 5, 6, 7, 8}\n"
          ]
        }
      ]
    },
    {
      "cell_type": "code",
      "source": [
        "# isdisjoint ---> disjoint sets are those sets which do not have any item common.\n",
        "s1 = {1, 2, 3, 4, 5}\n",
        "s2 = {4, 5, 6, 7, 8}\n",
        "s3 = {6, 7, 8, 9, 10}\n",
        "\n",
        "print(s1.isdisjoint(s2)) # s1 and s2 are not disjoint because both of these sets have common items.\n",
        "print(s1.isdisjoint(s3)) # s1 and s3 are disjoint because both of these sets do not have common items."
      ],
      "metadata": {
        "colab": {
          "base_uri": "https://localhost:8080/"
        },
        "id": "pjc8t5qWGD54",
        "outputId": "1cede004-06db-40ed-8379-b8325fe2077d"
      },
      "execution_count": 41,
      "outputs": [
        {
          "output_type": "stream",
          "name": "stdout",
          "text": [
            "False\n",
            "True\n"
          ]
        }
      ]
    },
    {
      "cell_type": "code",
      "source": [
        "# issubset\n",
        "s1 = {1, 2, 3, 4, 5}\n",
        "s2 = {3, 4, 5}\n",
        "\n",
        "print(s2.issubset(s1))\n",
        "print(s1.issubset(s2))"
      ],
      "metadata": {
        "colab": {
          "base_uri": "https://localhost:8080/"
        },
        "id": "zNdMGeWFGD_J",
        "outputId": "cc984909-8c34-41bf-a491-e4f5a1a33cca"
      },
      "execution_count": 43,
      "outputs": [
        {
          "output_type": "stream",
          "name": "stdout",
          "text": [
            "True\n",
            "False\n"
          ]
        }
      ]
    },
    {
      "cell_type": "code",
      "source": [
        "# issuperset\n",
        "s1 = {1, 2, 3, 4, 5}\n",
        "s2 = {3, 4, 5}\n",
        "\n",
        "print(s1.issuperset(s2))"
      ],
      "metadata": {
        "colab": {
          "base_uri": "https://localhost:8080/"
        },
        "id": "rmaApf7_IjEI",
        "outputId": "2e18fb05-b268-4032-f9ba-2422d9aca6be"
      },
      "execution_count": 44,
      "outputs": [
        {
          "output_type": "stream",
          "name": "stdout",
          "text": [
            "True\n"
          ]
        }
      ]
    },
    {
      "cell_type": "code",
      "source": [
        "# copy\n",
        "s1 = {1, 2, 3}\n",
        "s2 = s1.copy()\n",
        "\n",
        "print(s1)\n",
        "print(s2)"
      ],
      "metadata": {
        "colab": {
          "base_uri": "https://localhost:8080/"
        },
        "id": "B8RoultsIzIh",
        "outputId": "73c5f14c-65e2-4384-9c59-905a1cfe58ff"
      },
      "execution_count": 45,
      "outputs": [
        {
          "output_type": "stream",
          "name": "stdout",
          "text": [
            "{1, 2, 3}\n",
            "{1, 2, 3}\n"
          ]
        }
      ]
    },
    {
      "cell_type": "markdown",
      "source": [
        "### Frozenset\n",
        "Frozen set is just an immutable version of a Python set object\n",
        "All the read operation will work but not write operations."
      ],
      "metadata": {
        "id": "K1vcdpGkpz3X"
      }
    },
    {
      "cell_type": "code",
      "source": [
        "# creating a frozenset\n",
        "\n",
        "fs = frozenset([1, 2, 3]) # can pass any iterable like list, set, tuple\n",
        "fs"
      ],
      "metadata": {
        "id": "KoCHYQ8op0ML",
        "colab": {
          "base_uri": "https://localhost:8080/"
        },
        "outputId": "58db328b-16eb-426a-829d-a44ada3c6565"
      },
      "execution_count": 47,
      "outputs": [
        {
          "output_type": "execute_result",
          "data": {
            "text/plain": [
              "frozenset({1, 2, 3})"
            ]
          },
          "metadata": {},
          "execution_count": 47
        }
      ]
    },
    {
      "cell_type": "code",
      "source": [
        "# We can create 2D frozenset because it is an immutable data type and it can contain immutable data type inside.\n",
        "\n",
        "fs = frozenset([1, 2, 3, frozenset((5, 6, 7))])\n",
        "fs"
      ],
      "metadata": {
        "colab": {
          "base_uri": "https://localhost:8080/"
        },
        "id": "ONtaTJzTNL-7",
        "outputId": "9bb21f37-632b-4a5c-af57-407269eb4f91"
      },
      "execution_count": 51,
      "outputs": [
        {
          "output_type": "execute_result",
          "data": {
            "text/plain": [
              "frozenset({1, 2, 3, frozenset({5, 6, 7})})"
            ]
          },
          "metadata": {},
          "execution_count": 51
        }
      ]
    },
    {
      "cell_type": "markdown",
      "source": [
        "### Set Comprehension"
      ],
      "metadata": {
        "id": "L4QMB_aCp25r"
      }
    },
    {
      "cell_type": "code",
      "source": [
        "{i for i in range(1, 11)}"
      ],
      "metadata": {
        "id": "z2Y1vTPHp3Ni",
        "colab": {
          "base_uri": "https://localhost:8080/"
        },
        "outputId": "4ac36fef-83c5-4a32-b274-d64d1c535911"
      },
      "execution_count": 52,
      "outputs": [
        {
          "output_type": "execute_result",
          "data": {
            "text/plain": [
              "{1, 2, 3, 4, 5, 6, 7, 8, 9, 10}"
            ]
          },
          "metadata": {},
          "execution_count": 52
        }
      ]
    },
    {
      "cell_type": "code",
      "source": [
        "{i**2 for i in range(1, 11) if i > 5}"
      ],
      "metadata": {
        "colab": {
          "base_uri": "https://localhost:8080/"
        },
        "id": "haacQSGOPXfM",
        "outputId": "841eec9c-dfbb-45b9-9c9f-10fda3f3a896"
      },
      "execution_count": 53,
      "outputs": [
        {
          "output_type": "execute_result",
          "data": {
            "text/plain": [
              "{36, 49, 64, 81, 100}"
            ]
          },
          "metadata": {},
          "execution_count": 53
        }
      ]
    },
    {
      "cell_type": "markdown",
      "source": [
        "# Dictionary\n",
        "\n",
        "Dictionary in Python is a collection of key-value pair, used to store data values like a map, which, unlike other data types which hold only a single value as an element.\n",
        "\n",
        "In some languages it is known as hash map or assosiative arrays.\n",
        "\n",
        "dict = { 'name' : 'nitish' , 'age' : 33 , 'gender' : 'male' }\n",
        "\n",
        "Characterstics:\n",
        "\n",
        "- Mutable\n",
        "- Indexing has no meaning\n",
        "- keys can't be duplicated\n",
        "- Mutable items such as list are not allowed as keys.\n",
        "- d5 = {\"name\": \"mohit\", [1, 2, 3]: 5} ---> This is not possible."
      ],
      "metadata": {
        "id": "_3QJi73VOmjN"
      }
    },
    {
      "cell_type": "markdown",
      "source": [
        "### Create Dictionary"
      ],
      "metadata": {
        "id": "zrKjzXAeOyGN"
      }
    },
    {
      "cell_type": "code",
      "source": [
        "# empty dict\n",
        "d = {}\n",
        "print(d)\n",
        "\n",
        "# Homogenous 1D dict\n",
        "d1 = {\"name\": \"mohit\", \"gender\": \"male\"}\n",
        "print(d1)\n",
        "\n",
        "# Mixed key dict\n",
        "d2 = {\"name\": \"mohit\", \"hello\": 1, (1, 2, 3): 1}\n",
        "print(d2)\n",
        "\n",
        "# 2D dict\n",
        "d3 = {\n",
        "    \"Name\": \"Mohit\",\n",
        "    \"College\": \"AITH\",\n",
        "    \"Age\": 23,\n",
        "    \"Subject\":{\n",
        "        \"DSA\": 50,\n",
        "        \"PYTHON\": 70,\n",
        "        \"MATHS\": 30\n",
        "    }\n",
        "}\n",
        "print(d3)\n",
        "\n",
        "# Using dict function ---> Passing a list of tuples\n",
        "d4 = dict([(1, 1), (2, 2), (\"name\", \"mohit\")])\n",
        "print(d4)\n",
        "\n",
        "# Can't have duplicate keys.\n",
        "# Mutablen items as keys are not allowed.\n",
        "d5 = {\"name\": \"mohit\", [1, 2, 3]: 5}\n",
        "print(d5)"
      ],
      "metadata": {
        "colab": {
          "base_uri": "https://localhost:8080/"
        },
        "id": "ADzKb1BBOxTf",
        "outputId": "689d34c6-9a26-4aed-f25a-3772dbd6dccb"
      },
      "execution_count": 10,
      "outputs": [
        {
          "output_type": "stream",
          "name": "stdout",
          "text": [
            "{}\n",
            "{'name': 'mohit', 'gender': 'male'}\n",
            "{'name': 'mohit', 'hello': 1, (1, 2, 3): 1}\n",
            "{'Name': 'Mohit', 'College': 'AITH', 'Age': 23, 'Subject': {'DSA': 50, 'PYTHON': 70, 'MATHS': 30}}\n",
            "{1: 1, 2: 2, 'name': 'mohit'}\n"
          ]
        }
      ]
    },
    {
      "cell_type": "markdown",
      "source": [
        "### Accessing items"
      ],
      "metadata": {
        "id": "nG3t-hCoO3Ld"
      }
    },
    {
      "cell_type": "code",
      "source": [
        "# Using []\n",
        "d = {\"name\": \"mohit\", \"hello\": 1, (1, 2, 3): 1}\n",
        "\n",
        "print(d[\"hello\"])\n",
        "print(d[\"name\"])"
      ],
      "metadata": {
        "colab": {
          "base_uri": "https://localhost:8080/"
        },
        "id": "AFVHB-lXO2V3",
        "outputId": "88cbc27f-e2c6-4134-fe91-bc79c9bba108"
      },
      "execution_count": 14,
      "outputs": [
        {
          "output_type": "stream",
          "name": "stdout",
          "text": [
            "1\n",
            "mohit\n"
          ]
        }
      ]
    },
    {
      "cell_type": "code",
      "source": [
        "# get function\n",
        "d = {\"name\": \"mohit\", \"hello\": 1, (1, 2, 3): 100}\n",
        "\n",
        "print(d.get(\"name\"))\n",
        "print(d.get(\"hello\"))\n",
        "print(d.get((1, 2, 3)))"
      ],
      "metadata": {
        "colab": {
          "base_uri": "https://localhost:8080/"
        },
        "id": "abn2a9QN3SQB",
        "outputId": "088e3de4-df1b-431b-f3aa-f8acd138bfbd"
      },
      "execution_count": 18,
      "outputs": [
        {
          "output_type": "stream",
          "name": "stdout",
          "text": [
            "mohit\n",
            "1\n",
            "100\n"
          ]
        }
      ]
    },
    {
      "cell_type": "code",
      "source": [
        "# Accesing 2D dictionary\n",
        "d = {\n",
        "    \"Name\": \"Mohit\",\n",
        "    \"College\": \"AITH\",\n",
        "    \"Age\": 23,\n",
        "    \"Subject\":{\n",
        "        \"DSA\": 50,\n",
        "        \"PYTHON\": 70,\n",
        "        \"MATHS\": 30\n",
        "    }\n",
        "}\n",
        "\n",
        "d[\"Subject\"][\"DSA\"]"
      ],
      "metadata": {
        "colab": {
          "base_uri": "https://localhost:8080/"
        },
        "id": "hajG5_MR6Zfn",
        "outputId": "82aaa6e0-bf0a-43be-f20a-176797f26378"
      },
      "execution_count": 30,
      "outputs": [
        {
          "output_type": "execute_result",
          "data": {
            "text/plain": [
              "50"
            ]
          },
          "metadata": {},
          "execution_count": 30
        }
      ]
    },
    {
      "cell_type": "markdown",
      "source": [
        "### Adding key-value pair"
      ],
      "metadata": {
        "id": "eZhAhJyLO6mU"
      }
    },
    {
      "cell_type": "code",
      "source": [
        "d = {\"name\": \"mohit\", \"hello\": 1, (1, 2, 3): 100}\n",
        "\n",
        "d[\"gender\"] = \"male\"\n",
        "d[\"college\"] = \"AITH\"\n",
        "d[\"role\"] = \"Data Analyst\"\n",
        "\n",
        "print(d)"
      ],
      "metadata": {
        "colab": {
          "base_uri": "https://localhost:8080/"
        },
        "id": "yDmiyADTOuxN",
        "outputId": "63eff1d8-7906-4459-df0c-d393afbb1116"
      },
      "execution_count": 19,
      "outputs": [
        {
          "output_type": "stream",
          "name": "stdout",
          "text": [
            "{'name': 'mohit', 'hello': 1, (1, 2, 3): 100, 'gender': 'male', 'college': 'AITH', 'role': 'Data Analyst'}\n"
          ]
        }
      ]
    },
    {
      "cell_type": "code",
      "source": [
        "# Adding a key-value pair in a 2D dict\n",
        "d = {\n",
        "    \"Name\": \"Mohit\",\n",
        "    \"College\": \"AITH\",\n",
        "    \"Age\": 23,\n",
        "    \"Subject\":{\n",
        "        \"DSA\": 50,\n",
        "        \"PYTHON\": 70,\n",
        "        \"MATHS\": 30\n",
        "    }\n",
        "}\n",
        "\n",
        "d[\"Subject\"][\"DATA VIS.\"] = 85\n",
        "d"
      ],
      "metadata": {
        "colab": {
          "base_uri": "https://localhost:8080/"
        },
        "id": "jFw3yNGT6zH_",
        "outputId": "1e4c77e3-7467-45b9-fed8-dc044b21bb30"
      },
      "execution_count": 32,
      "outputs": [
        {
          "output_type": "execute_result",
          "data": {
            "text/plain": [
              "{'Name': 'Mohit',\n",
              " 'College': 'AITH',\n",
              " 'Age': 23,\n",
              " 'Subject': {'DSA': 50, 'PYTHON': 70, 'MATHS': 30, 'DATA VIS.': 85}}"
            ]
          },
          "metadata": {},
          "execution_count": 32
        }
      ]
    },
    {
      "cell_type": "markdown",
      "source": [
        "### Remove key-value pair"
      ],
      "metadata": {
        "id": "CKsNeb-EO-lU"
      }
    },
    {
      "cell_type": "code",
      "source": [
        "# pop ---> provide the key and it'll remove/delete that key-value pair\n",
        "d = {'name': 'mohit', 'role': 'Data Analyst', 'hello': 1, (1, 2, 3): 100, 'gender': 'male', 'college': 'AITH'}\n",
        "print(d)\n",
        "\n",
        "d.pop((1, 2, 3))\n",
        "print(d)\n",
        "\n",
        "# popitem ---> removes last item of the dictionary\n",
        "print(d)\n",
        "d.popitem()\n",
        "print(d)\n",
        "\n",
        "# del\n",
        "del d[\"hello\"]\n",
        "print(d)\n",
        "\n",
        "# clear ---> removes every key-value pair from dict and makes it into an empty dict\n",
        "d4.clear()\n",
        "d4"
      ],
      "metadata": {
        "colab": {
          "base_uri": "https://localhost:8080/"
        },
        "id": "YMEbJUUDO_Fr",
        "outputId": "57fdee03-bc35-4895-9d57-62ce9698d8cd"
      },
      "execution_count": 27,
      "outputs": [
        {
          "output_type": "stream",
          "name": "stdout",
          "text": [
            "{'name': 'mohit', 'role': 'Data Analyst', 'hello': 1, (1, 2, 3): 100, 'gender': 'male', 'college': 'AITH'}\n",
            "{'name': 'mohit', 'role': 'Data Analyst', 'hello': 1, 'gender': 'male', 'college': 'AITH'}\n",
            "{'name': 'mohit', 'role': 'Data Analyst', 'hello': 1, 'gender': 'male', 'college': 'AITH'}\n",
            "{'name': 'mohit', 'role': 'Data Analyst', 'hello': 1, 'gender': 'male'}\n",
            "{'name': 'mohit', 'role': 'Data Analyst', 'gender': 'male'}\n"
          ]
        },
        {
          "output_type": "execute_result",
          "data": {
            "text/plain": [
              "{}"
            ]
          },
          "metadata": {},
          "execution_count": 27
        }
      ]
    },
    {
      "cell_type": "markdown",
      "source": [
        "### Editing key-value pair"
      ],
      "metadata": {
        "id": "yG6BXsxqPBto"
      }
    },
    {
      "cell_type": "code",
      "source": [
        "d = {\n",
        "    \"Name\": \"Mohit\",\n",
        "    \"College\": \"AITH\",\n",
        "    \"Age\": 23,\n",
        "    \"Subject\":{\n",
        "        \"DSA\": 50,\n",
        "        \"PYTHON\": 70,\n",
        "        \"MATHS\": 30\n",
        "    }\n",
        "}\n",
        "\n",
        "d[\"College\"] = \"Dr. AITD\"\n",
        "d[\"Subject\"][\"DSA\"] = 80\n",
        "print(d)"
      ],
      "metadata": {
        "colab": {
          "base_uri": "https://localhost:8080/"
        },
        "id": "U0fjF_w6PCHc",
        "outputId": "d2bbaf48-9606-4b64-e4ca-161b8d70cd2d"
      },
      "execution_count": 34,
      "outputs": [
        {
          "output_type": "stream",
          "name": "stdout",
          "text": [
            "{'Name': 'Mohit', 'College': 'Dr. AITD', 'Age': 23, 'Subject': {'DSA': 80, 'PYTHON': 70, 'MATHS': 30}}\n"
          ]
        }
      ]
    },
    {
      "cell_type": "markdown",
      "source": [
        "### Dictionary Operations\n",
        "\n",
        "- Membership\n",
        "- Iteration"
      ],
      "metadata": {
        "id": "2CEn05GYPEu-"
      }
    },
    {
      "cell_type": "code",
      "source": [
        "d = {'name': 'mohit', 'role': 'Data Analyst', 'hello': 1, (1, 2, 3): 100, 'gender': 'male', 'college': 'AITH'}\n",
        "\n",
        "\"name\" in d"
      ],
      "metadata": {
        "colab": {
          "base_uri": "https://localhost:8080/"
        },
        "id": "SrKTfPkdPFD7",
        "outputId": "567cf257-3993-471d-ee61-7b3598ecf74d"
      },
      "execution_count": 36,
      "outputs": [
        {
          "output_type": "execute_result",
          "data": {
            "text/plain": [
              "True"
            ]
          },
          "metadata": {},
          "execution_count": 36
        }
      ]
    },
    {
      "cell_type": "code",
      "source": [
        "for i in d:\n",
        "  print(i, d[i])"
      ],
      "metadata": {
        "colab": {
          "base_uri": "https://localhost:8080/"
        },
        "id": "ZQwdANrk8ktW",
        "outputId": "559df859-15ce-43a4-ae83-157e7e8508b3"
      },
      "execution_count": 38,
      "outputs": [
        {
          "output_type": "stream",
          "name": "stdout",
          "text": [
            "name mohit\n",
            "role Data Analyst\n",
            "hello 1\n",
            "(1, 2, 3) 100\n",
            "gender male\n",
            "college AITH\n"
          ]
        }
      ]
    },
    {
      "cell_type": "markdown",
      "source": [
        "### Dictionary Functions"
      ],
      "metadata": {
        "id": "IZW1pptSPHuN"
      }
    },
    {
      "cell_type": "code",
      "source": [
        "d = {\"name\": \"mohit\", \"gender\": \"male\"}\n",
        "\n",
        "# len/sorted/items\n",
        "print(len(d))\n",
        "print(sorted(d))\n",
        "print(d.items()) # list of tuples with key and value"
      ],
      "metadata": {
        "colab": {
          "base_uri": "https://localhost:8080/"
        },
        "id": "fEFRlICLPIAJ",
        "outputId": "a45497c5-1067-4fb4-e2c3-5a8b4f381718"
      },
      "execution_count": 49,
      "outputs": [
        {
          "output_type": "stream",
          "name": "stdout",
          "text": [
            "2\n",
            "['gender', 'name']\n",
            "dict_items([('name', 'mohit'), ('gender', 'male')])\n"
          ]
        }
      ]
    },
    {
      "cell_type": "code",
      "source": [
        "d = {\"name\": \"mohit\", \"gender\": \"male\"}\n",
        "\n",
        "# keys/values\n",
        "print(d.keys())\n",
        "print(d.values())"
      ],
      "metadata": {
        "colab": {
          "base_uri": "https://localhost:8080/"
        },
        "id": "0j8Bfzhc9Kcw",
        "outputId": "7dc1f446-500d-4277-9a11-aebc221342fc"
      },
      "execution_count": 46,
      "outputs": [
        {
          "output_type": "stream",
          "name": "stdout",
          "text": [
            "dict_keys(['name', 'gender'])\n",
            "dict_values(['mohit', 'male'])\n"
          ]
        }
      ]
    },
    {
      "cell_type": "code",
      "source": [
        "d1 = {1:2, 2:3, 3:4, 4:5}\n",
        "d2 = {4:7, 6:8}\n",
        "\n",
        "# update\n",
        "d1.update(d2)\n",
        "print(d1)"
      ],
      "metadata": {
        "colab": {
          "base_uri": "https://localhost:8080/"
        },
        "id": "lBhvw7th9gdJ",
        "outputId": "51e05435-9f7d-447a-d387-2ba968e81a37"
      },
      "execution_count": 47,
      "outputs": [
        {
          "output_type": "stream",
          "name": "stdout",
          "text": [
            "{1: 2, 2: 3, 3: 4, 4: 7, 6: 8}\n"
          ]
        }
      ]
    },
    {
      "cell_type": "markdown",
      "source": [
        "### Dictionary Comprehension\n",
        "![image.png](data:image/png;base64,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)"
      ],
      "metadata": {
        "id": "3TlJ8nLSPQL9"
      }
    },
    {
      "cell_type": "code",
      "source": [
        "# print 1st 10 numbers as key and their square as values using comprehension.\n",
        "\n",
        "{i: i**2 for i in range(1, 11)}"
      ],
      "metadata": {
        "colab": {
          "base_uri": "https://localhost:8080/"
        },
        "id": "BU6_1_uLPQ4q",
        "outputId": "4d91245e-8f84-47cf-b92a-67c2f1fa9dfb"
      },
      "execution_count": 48,
      "outputs": [
        {
          "output_type": "execute_result",
          "data": {
            "text/plain": [
              "{1: 1, 2: 4, 3: 9, 4: 16, 5: 25, 6: 36, 7: 49, 8: 64, 9: 81, 10: 100}"
            ]
          },
          "metadata": {},
          "execution_count": 48
        }
      ]
    },
    {
      "cell_type": "code",
      "source": [
        "# convert KM into Miles using comprehension.\n",
        "\n",
        "distance = {\"delhi\": 1000, \"mumbai\": 2000, \"kanpur\": 380}\n",
        "\n",
        "{key: value*0.62 for (key, value) in distance.items()}"
      ],
      "metadata": {
        "colab": {
          "base_uri": "https://localhost:8080/"
        },
        "id": "1etn9bka-ww5",
        "outputId": "4457c985-4bf5-40f1-a264-ba1608dd7040"
      },
      "execution_count": 51,
      "outputs": [
        {
          "output_type": "execute_result",
          "data": {
            "text/plain": [
              "{'delhi': 620.0, 'mumbai': 1240.0, 'kanpur': 235.6}"
            ]
          },
          "metadata": {},
          "execution_count": 51
        }
      ]
    },
    {
      "cell_type": "code",
      "source": [
        "# create a dict from given list using zip using comprehension.\n",
        "\n",
        "days = [\"sunday\", \"monday\", \"tuesday\", \"wednesday\", \"thursday\", \"friday\", \"saturday\"]\n",
        "temp_c = [30.2, 25, 27, 42, 23, 26, 28]\n",
        "\n",
        "{i:j for (i, j) in zip(days, temp_c)}"
      ],
      "metadata": {
        "colab": {
          "base_uri": "https://localhost:8080/"
        },
        "id": "pEvn023L-wzi",
        "outputId": "2e4ccc64-adb8-4bb9-b623-e2ac00d6fafa"
      },
      "execution_count": 52,
      "outputs": [
        {
          "output_type": "execute_result",
          "data": {
            "text/plain": [
              "{'sunday': 30.2,\n",
              " 'monday': 25,\n",
              " 'tuesday': 27,\n",
              " 'wednesday': 42,\n",
              " 'thursday': 23,\n",
              " 'friday': 26,\n",
              " 'saturday': 28}"
            ]
          },
          "metadata": {},
          "execution_count": 52
        }
      ]
    },
    {
      "cell_type": "code",
      "source": [
        "product = {\"mobile\": 50, \"laptop\": 35, \"earbud\": 0}\n",
        "\n",
        "{i:j for (i, j) in product.items() if j > 0}"
      ],
      "metadata": {
        "colab": {
          "base_uri": "https://localhost:8080/"
        },
        "id": "9f9gMmMn-w2p",
        "outputId": "5a9a1967-27d3-453c-e5f0-db9951c30968"
      },
      "execution_count": 56,
      "outputs": [
        {
          "output_type": "execute_result",
          "data": {
            "text/plain": [
              "{'mobile': 50, 'laptop': 35}"
            ]
          },
          "metadata": {},
          "execution_count": 56
        }
      ]
    }
  ]
}